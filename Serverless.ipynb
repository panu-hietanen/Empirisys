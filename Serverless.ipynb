{
 "cells": [
  {
   "cell_type": "code",
   "execution_count": 10,
   "metadata": {},
   "outputs": [
    {
     "name": "stdout",
     "output_type": "stream",
     "text": [
      "The Eiffel Tower! It's an iconic symbol of Paris and one of the most recognizable landmarks in the world. Here are some reasons why it's so great:\n",
      "\n",
      "1. **Engineering marvel**: When it was built for the 1889 World's Fair, the Eiffel Tower was the tallest structure in the world, standing at 324 meters (1,063 feet). Its innovative design and construction were a marvel of engineering at the time.\n",
      "2. **Panoramic views**: The Eiffel Tower offers stunning views of the City of Light from its observation decks on the first and second levels. On a clear day,\n"
     ]
    }
   ],
   "source": [
    "import urllib.request\n",
    "import json\n",
    "import os\n",
    "import ssl\n",
    "\n",
    "def allowSelfSignedHttps(allowed):\n",
    "    # bypass the server certificate verification on client side\n",
    "    if allowed and not os.environ.get('PYTHONHTTPSVERIFY', '') and getattr(ssl, '_create_unverified_context', None):\n",
    "        ssl._create_default_https_context = ssl._create_unverified_context\n",
    "\n",
    "allowSelfSignedHttps(True) # this line is needed if you use self-signed certificate in your scoring service.\n",
    "\n",
    "# Request data goes here\n",
    "# The example below assumes JSON formatting which may be updated\n",
    "# depending on the format your endpoint expects.\n",
    "# More information can be found here:\n",
    "# https://docs.microsoft.com/azure/machine-learning/how-to-deploy-advanced-entry-script\n",
    "data =  {\n",
    "  \"messages\": [\n",
    "    {\n",
    "      \"role\": \"user\",\n",
    "      \"content\": \"I am going to Paris, what should I see?\"\n",
    "    },\n",
    "    {\n",
    "      \"role\": \"assistant\",\n",
    "      \"content\": \"Paris, the capital of France, is known for its stunning architecture, art museums, historical landmarks, and romantic atmosphere. Here are some of the top attractions to see in Paris:\\n\\n1. The Eiffel Tower: The iconic Eiffel Tower is one of the most recognizable landmarks in the world and offers breathtaking views of the city.\\n2. The Louvre Museum: The Louvre is one of the world's largest and most famous museums, housing an impressive collection of art and artifacts, including the Mona Lisa.\\n3. Notre-Dame Cathedral: This beautiful cathedral is one of the most famous landmarks in Paris and is known for its Gothic architecture and stunning stained glass windows.\\n\\nThese are just a few of the many attractions that Paris has to offer. With so much to see and do, it's no wonder that Paris is one of the most popular tourist destinations in the world.\"\n",
    "    },\n",
    "    {\n",
    "      \"role\": \"user\",\n",
    "      \"content\": \"What is so great about #1?\"\n",
    "    }\n",
    "  ],\n",
    "  \"max_tokens\": 128,\n",
    "  \"temperature\": 0.8,\n",
    "  \"top_p\": 0.1,\n",
    "  \"best_of\": 1,\n",
    "  \"presence_penalty\": 0,\n",
    "  \"use_beam_search\": \"false\",\n",
    "  \"ignore_eos\": \"false\",\n",
    "  \"skip_special_tokens\": \"false\",\n",
    "  \"logprobs\": \"false\"\n",
    "}\n",
    "\n",
    "body = str.encode(json.dumps(data))\n",
    "\n",
    "url = 'https://Boost-Meta-Llama-3-8B-Instruct-serverless.eastus2.inference.ai.azure.com/v1/chat/completions'\n",
    "# Replace this with the primary/secondary key, AMLToken, or Microsoft Entra ID token for the endpoint\n",
    "api_key = 'TBvXxNkvcLPcl5OmgkCK4CUger60f6IC'\n",
    "if not api_key:\n",
    "    raise Exception(\"A key should be provided to invoke the endpoint\")\n",
    "\n",
    "\n",
    "headers = {'Content-Type':'application/json', 'Authorization':('Bearer '+ api_key)}\n",
    "\n",
    "req = urllib.request.Request(url, body, headers)\n",
    "\n",
    "try:\n",
    "    response = urllib.request.urlopen(req)\n",
    "\n",
    "    result = response.read()\n",
    "    # Decode the byte string to a regular string\n",
    "    result_str = result.decode('utf-8')\n",
    "    # Parse the JSON string to a Python dictionary\n",
    "    result_json = json.loads(result_str)\n",
    "    # Access the message content\n",
    "    message_content = result_json['choices'][0]['message']['content']\n",
    "    print(message_content)\n",
    "except urllib.error.HTTPError as error:\n",
    "    print(\"The request failed with status code: \" + str(error.code))\n",
    "\n",
    "    # Print the headers - they include the requert ID and the timestamp, which are useful for debugging the failure\n",
    "    print(error.info())\n",
    "    print(error.read().decode(\"utf8\", 'ignore'))\n"
   ]
  },
  {
   "cell_type": "code",
   "execution_count": 11,
   "metadata": {},
   "outputs": [
    {
     "name": "stdout",
     "output_type": "stream",
     "text": [
      "b'{\"choices\":[{\"finish_reason\":\"length\",\"index\":0,\"logprobs\":null,\"message\":{\"content\":\"The Eiffel Tower! It\\'s an iconic symbol of Paris and one of the most recognizable landmarks in the world. Here are some reasons why it\\'s so great:\\\\n\\\\n1. **Engineering marvel**: When it was built for the 1889 World\\'s Fair, the Eiffel Tower was the tallest structure in the world, standing at 324 meters (1,063 feet). Its innovative design and construction were a marvel of engineering at the time.\\\\n2. **Panoramic views**: The Eiffel Tower offers stunning views of the City of Light from its observation decks on the first and second levels. On a clear day,\",\"role\":\"assistant\",\"tool_calls\":null},\"stop_reason\":null}],\"created\":1720608884,\"id\":\"cmpl-47dd84f555154060a6432658c89707c2\",\"model\":\"Meta-Llama-3-8B-Instruct\",\"object\":\"chat.completion\",\"usage\":{\"completion_tokens\":128,\"prompt_tokens\":216,\"total_tokens\":344}}\\n'\n"
     ]
    }
   ],
   "source": [
    "print(result)"
   ]
  }
 ],
 "metadata": {
  "kernelspec": {
   "display_name": ".venv",
   "language": "python",
   "name": "python3"
  },
  "language_info": {
   "codemirror_mode": {
    "name": "ipython",
    "version": 3
   },
   "file_extension": ".py",
   "mimetype": "text/x-python",
   "name": "python",
   "nbconvert_exporter": "python",
   "pygments_lexer": "ipython3",
   "version": "3.10.11"
  }
 },
 "nbformat": 4,
 "nbformat_minor": 2
}
