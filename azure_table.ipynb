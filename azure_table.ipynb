{
 "cells": [
  {
   "cell_type": "code",
   "execution_count": 1,
   "metadata": {},
   "outputs": [],
   "source": [
    "from dotenv import load_dotenv\n",
    "load_dotenv()\n",
    "from utils.table import Table, TableEntry\n",
    "import json\n",
    "import os\n",
    "from ast import literal_eval\n",
    "from pprint import pp"
   ]
  },
  {
   "cell_type": "code",
   "execution_count": 2,
   "metadata": {},
   "outputs": [
    {
     "name": "stdout",
     "output_type": "stream",
     "text": [
      "2024-08-07 16:30:38,163 - azure.core.pipeline.policies.http_logging_policy - INFO - Request URL: 'https://stboostfnappdevuks001.table.core.windows.net/?restype=REDACTED&comp=REDACTED'\n",
      "Request method: 'GET'\n",
      "Request headers:\n",
      "    'x-ms-version': 'REDACTED'\n",
      "    'Accept': 'application/xml'\n",
      "    'x-ms-client-request-id': 'ff675d2c-54d1-11ef-a611-70cf495728c0'\n",
      "    'x-ms-date': 'REDACTED'\n",
      "    'Date': 'Wed, 07 Aug 2024 15:30:38 GMT'\n",
      "    'User-Agent': 'azsdk-python-data-tables/12.5.0 Python/3.10.11 (Windows-10-10.0.19045-SP0)'\n",
      "    'Authorization': 'REDACTED'\n",
      "No body was attached to the request\n",
      "2024-08-07 16:30:38,259 - azure.core.pipeline.policies.http_logging_policy - INFO - Response status: 200\n",
      "Response headers:\n",
      "    'Transfer-Encoding': 'chunked'\n",
      "    'Content-Type': 'application/xml'\n",
      "    'Server': 'Windows-Azure-Table/1.0 Microsoft-HTTPAPI/2.0'\n",
      "    'x-ms-request-id': '05f4580c-8002-0092-36de-e86a12000000'\n",
      "    'x-ms-client-request-id': 'ff675d2c-54d1-11ef-a611-70cf495728c0'\n",
      "    'x-ms-version': 'REDACTED'\n",
      "    'Date': 'Wed, 07 Aug 2024 15:30:38 GMT'\n",
      "2024-08-07 16:30:38,262 - azure - INFO - TableServiceClient initialized successfully.\n",
      "2024-08-07 16:30:38,262 - azure - INFO - Table properties: {'analytics_logging': , 'hour_metrics': , 'minute_metrics': , 'cors': []}\n",
      "2024-08-07 16:30:38,263 - azure - INFO - Table client for 'Boostvaltest001' retrieved successfully.\n"
     ]
    }
   ],
   "source": [
    "table = Table(os.getenv('TABLE_NAME'))"
   ]
  },
  {
   "cell_type": "code",
   "execution_count": 3,
   "metadata": {},
   "outputs": [
    {
     "name": "stdout",
     "output_type": "stream",
     "text": [
      "2024-08-07 16:30:38,281 - azure - INFO - Entities retrieved successfully from table Boostvaltest001.\n",
      "2024-08-07 16:30:38,282 - azure.core.pipeline.policies.http_logging_policy - INFO - Request URL: 'https://stboostfnappdevuks001.table.core.windows.net/Boostvaltest001()'\n",
      "Request method: 'GET'\n",
      "Request headers:\n",
      "    'x-ms-version': 'REDACTED'\n",
      "    'DataServiceVersion': 'REDACTED'\n",
      "    'Accept': 'application/json;odata=minimalmetadata'\n",
      "    'x-ms-client-request-id': 'ff79911a-54d1-11ef-9ecb-70cf495728c0'\n",
      "    'x-ms-date': 'REDACTED'\n",
      "    'Date': 'Wed, 07 Aug 2024 15:30:38 GMT'\n",
      "    'User-Agent': 'azsdk-python-data-tables/12.5.0 Python/3.10.11 (Windows-10-10.0.19045-SP0)'\n",
      "    'Authorization': 'REDACTED'\n",
      "No body was attached to the request\n",
      "2024-08-07 16:30:38,303 - azure.core.pipeline.policies.http_logging_policy - INFO - Response status: 200\n",
      "Response headers:\n",
      "    'Cache-Control': 'no-cache'\n",
      "    'Transfer-Encoding': 'chunked'\n",
      "    'Content-Type': 'application/json;odata=minimalmetadata;streaming=true;charset=utf-8'\n",
      "    'Server': 'Windows-Azure-Table/1.0 Microsoft-HTTPAPI/2.0'\n",
      "    'x-ms-request-id': '05f4581a-8002-0092-43de-e86a12000000'\n",
      "    'x-ms-client-request-id': 'ff79911a-54d1-11ef-9ecb-70cf495728c0'\n",
      "    'x-ms-version': 'REDACTED'\n",
      "    'X-Content-Type-Options': 'REDACTED'\n",
      "    'Date': 'Wed, 07 Aug 2024 15:30:38 GMT'\n"
     ]
    }
   ],
   "source": [
    "test = table.get_data()"
   ]
  },
  {
   "cell_type": "code",
   "execution_count": 4,
   "metadata": {},
   "outputs": [
    {
     "name": "stdout",
     "output_type": "stream",
     "text": [
      "{'PartitionKey': 'Panu', 'RowKey': '1', 'BoostLabels': '[]', 'Description': '', 'ManualLabels': '[]', 'Ratings': '{}', 'reviewed': False}\n"
     ]
    }
   ],
   "source": [
    "print(TableEntry('Panu', '1'))"
   ]
  },
  {
   "cell_type": "code",
   "execution_count": 8,
   "metadata": {},
   "outputs": [
    {
     "name": "stdout",
     "output_type": "stream",
     "text": [
      "2024-08-07 16:31:32,960 - azure.core.pipeline.policies.http_logging_policy - INFO - Request URL: 'https://stboostfnappdevuks001.table.core.windows.net/Boostvaltest001'\n",
      "Request method: 'POST'\n",
      "Request headers:\n",
      "    'Content-Type': 'application/json;odata=nometadata'\n",
      "    'Content-Length': '370'\n",
      "    'x-ms-version': 'REDACTED'\n",
      "    'DataServiceVersion': 'REDACTED'\n",
      "    'Accept': 'application/json;odata=minimalmetadata'\n",
      "    'x-ms-client-request-id': '2010bd63-54d2-11ef-a062-70cf495728c0'\n",
      "    'x-ms-date': 'REDACTED'\n",
      "    'Date': 'Wed, 07 Aug 2024 15:31:32 GMT'\n",
      "    'User-Agent': 'azsdk-python-data-tables/12.5.0 Python/3.10.11 (Windows-10-10.0.19045-SP0)'\n",
      "    'Authorization': 'REDACTED'\n",
      "A body is sent with the request\n",
      "2024-08-07 16:31:33,045 - azure.core.pipeline.policies.http_logging_policy - INFO - Response status: 409\n",
      "Response headers:\n",
      "    'Cache-Control': 'no-cache'\n",
      "    'Transfer-Encoding': 'chunked'\n",
      "    'Content-Type': 'application/json;odata=minimalmetadata;streaming=true;charset=utf-8'\n",
      "    'Server': 'Windows-Azure-Table/1.0 Microsoft-HTTPAPI/2.0'\n",
      "    'x-ms-request-id': '05f479df-8002-0092-77de-e86a12000000'\n",
      "    'x-ms-client-request-id': '2010bd63-54d2-11ef-a062-70cf495728c0'\n",
      "    'x-ms-version': 'REDACTED'\n",
      "    'X-Content-Type-Options': 'REDACTED'\n",
      "    'Date': 'Wed, 07 Aug 2024 15:31:32 GMT'\n",
      "2024-08-07 16:31:33,046 - azure - ERROR - Error creating entity in table Boostvaltest001: Operation returned an invalid status 'Conflict'\n",
      "Content: {\"odata.error\":{\"code\":\"EntityAlreadyExists\",\"message\":{\"lang\":\"en-US\",\"value\":\"The specified entity already exists.\\nRequestId:05f479df-8002-0092-77de-e86a12000000\\nTime:2024-08-07T15:31:33.5704936Z\"}}}\n",
      "2024-08-07 16:31:33,047 - azure.core.pipeline.policies.http_logging_policy - INFO - Request URL: 'https://stboostfnappdevuks001.table.core.windows.net/Boostvaltest001'\n",
      "Request method: 'POST'\n",
      "Request headers:\n",
      "    'Content-Type': 'application/json;odata=nometadata'\n",
      "    'Content-Length': '370'\n",
      "    'x-ms-version': 'REDACTED'\n",
      "    'DataServiceVersion': 'REDACTED'\n",
      "    'Accept': 'application/json;odata=minimalmetadata'\n",
      "    'x-ms-client-request-id': '201df052-54d2-11ef-9c1c-70cf495728c0'\n",
      "    'x-ms-date': 'REDACTED'\n",
      "    'Date': 'Wed, 07 Aug 2024 15:31:33 GMT'\n",
      "    'User-Agent': 'azsdk-python-data-tables/12.5.0 Python/3.10.11 (Windows-10-10.0.19045-SP0)'\n",
      "    'Authorization': 'REDACTED'\n",
      "A body is sent with the request\n",
      "2024-08-07 16:31:33,065 - azure.core.pipeline.policies.http_logging_policy - INFO - Response status: 409\n",
      "Response headers:\n",
      "    'Cache-Control': 'no-cache'\n",
      "    'Transfer-Encoding': 'chunked'\n",
      "    'Content-Type': 'application/json;odata=minimalmetadata;streaming=true;charset=utf-8'\n",
      "    'Server': 'Windows-Azure-Table/1.0 Microsoft-HTTPAPI/2.0'\n",
      "    'x-ms-request-id': '05f479ee-8002-0092-04de-e86a12000000'\n",
      "    'x-ms-client-request-id': '201df052-54d2-11ef-9c1c-70cf495728c0'\n",
      "    'x-ms-version': 'REDACTED'\n",
      "    'X-Content-Type-Options': 'REDACTED'\n",
      "    'Date': 'Wed, 07 Aug 2024 15:31:32 GMT'\n",
      "2024-08-07 16:31:33,066 - azure - ERROR - Error creating entity in table Boostvaltest001: Operation returned an invalid status 'Conflict'\n",
      "Content: {\"odata.error\":{\"code\":\"EntityAlreadyExists\",\"message\":{\"lang\":\"en-US\",\"value\":\"The specified entity already exists.\\nRequestId:05f479ee-8002-0092-04de-e86a12000000\\nTime:2024-08-07T15:31:33.6544462Z\"}}}\n",
      "2024-08-07 16:31:33,067 - azure.core.pipeline.policies.http_logging_policy - INFO - Request URL: 'https://stboostfnappdevuks001.table.core.windows.net/Boostvaltest001'\n",
      "Request method: 'POST'\n",
      "Request headers:\n",
      "    'Content-Type': 'application/json;odata=nometadata'\n",
      "    'Content-Length': '370'\n",
      "    'x-ms-version': 'REDACTED'\n",
      "    'DataServiceVersion': 'REDACTED'\n",
      "    'Accept': 'application/json;odata=minimalmetadata'\n",
      "    'x-ms-client-request-id': '2021010e-54d2-11ef-bc66-70cf495728c0'\n",
      "    'x-ms-date': 'REDACTED'\n",
      "    'Date': 'Wed, 07 Aug 2024 15:31:33 GMT'\n",
      "    'User-Agent': 'azsdk-python-data-tables/12.5.0 Python/3.10.11 (Windows-10-10.0.19045-SP0)'\n",
      "    'Authorization': 'REDACTED'\n",
      "A body is sent with the request\n",
      "2024-08-07 16:31:33,085 - azure.core.pipeline.policies.http_logging_policy - INFO - Response status: 409\n",
      "Response headers:\n",
      "    'Cache-Control': 'no-cache'\n",
      "    'Transfer-Encoding': 'chunked'\n",
      "    'Content-Type': 'application/json;odata=minimalmetadata;streaming=true;charset=utf-8'\n",
      "    'Server': 'Windows-Azure-Table/1.0 Microsoft-HTTPAPI/2.0'\n",
      "    'x-ms-request-id': '05f479f0-8002-0092-06de-e86a12000000'\n",
      "    'x-ms-client-request-id': '2021010e-54d2-11ef-bc66-70cf495728c0'\n",
      "    'x-ms-version': 'REDACTED'\n",
      "    'X-Content-Type-Options': 'REDACTED'\n",
      "    'Date': 'Wed, 07 Aug 2024 15:31:33 GMT'\n",
      "2024-08-07 16:31:33,086 - azure - ERROR - Error creating entity in table Boostvaltest001: Operation returned an invalid status 'Conflict'\n",
      "Content: {\"odata.error\":{\"code\":\"EntityAlreadyExists\",\"message\":{\"lang\":\"en-US\",\"value\":\"The specified entity already exists.\\nRequestId:05f479f0-8002-0092-06de-e86a12000000\\nTime:2024-08-07T15:31:33.6744349Z\"}}}\n",
      "2024-08-07 16:31:33,087 - azure.core.pipeline.policies.http_logging_policy - INFO - Request URL: 'https://stboostfnappdevuks001.table.core.windows.net/Boostvaltest001'\n",
      "Request method: 'POST'\n",
      "Request headers:\n",
      "    'Content-Type': 'application/json;odata=nometadata'\n",
      "    'Content-Length': '370'\n",
      "    'x-ms-version': 'REDACTED'\n",
      "    'DataServiceVersion': 'REDACTED'\n",
      "    'Accept': 'application/json;odata=minimalmetadata'\n",
      "    'x-ms-client-request-id': '20241062-54d2-11ef-84c7-70cf495728c0'\n",
      "    'x-ms-date': 'REDACTED'\n",
      "    'Date': 'Wed, 07 Aug 2024 15:31:33 GMT'\n",
      "    'User-Agent': 'azsdk-python-data-tables/12.5.0 Python/3.10.11 (Windows-10-10.0.19045-SP0)'\n",
      "    'Authorization': 'REDACTED'\n",
      "A body is sent with the request\n",
      "2024-08-07 16:31:33,104 - azure.core.pipeline.policies.http_logging_policy - INFO - Response status: 409\n",
      "Response headers:\n",
      "    'Cache-Control': 'no-cache'\n",
      "    'Transfer-Encoding': 'chunked'\n",
      "    'Content-Type': 'application/json;odata=minimalmetadata;streaming=true;charset=utf-8'\n",
      "    'Server': 'Windows-Azure-Table/1.0 Microsoft-HTTPAPI/2.0'\n",
      "    'x-ms-request-id': '05f479f3-8002-0092-09de-e86a12000000'\n",
      "    'x-ms-client-request-id': '20241062-54d2-11ef-84c7-70cf495728c0'\n",
      "    'x-ms-version': 'REDACTED'\n",
      "    'X-Content-Type-Options': 'REDACTED'\n",
      "    'Date': 'Wed, 07 Aug 2024 15:31:33 GMT'\n",
      "2024-08-07 16:31:33,106 - azure - ERROR - Error creating entity in table Boostvaltest001: Operation returned an invalid status 'Conflict'\n",
      "Content: {\"odata.error\":{\"code\":\"EntityAlreadyExists\",\"message\":{\"lang\":\"en-US\",\"value\":\"The specified entity already exists.\\nRequestId:05f479f3-8002-0092-09de-e86a12000000\\nTime:2024-08-07T15:31:33.6934248Z\"}}}\n",
      "2024-08-07 16:31:33,107 - azure.core.pipeline.policies.http_logging_policy - INFO - Request URL: 'https://stboostfnappdevuks001.table.core.windows.net/Boostvaltest001'\n",
      "Request method: 'POST'\n",
      "Request headers:\n",
      "    'Content-Type': 'application/json;odata=nometadata'\n",
      "    'Content-Length': '370'\n",
      "    'x-ms-version': 'REDACTED'\n",
      "    'DataServiceVersion': 'REDACTED'\n",
      "    'Accept': 'application/json;odata=minimalmetadata'\n",
      "    'x-ms-client-request-id': '20271fdc-54d2-11ef-9c85-70cf495728c0'\n",
      "    'x-ms-date': 'REDACTED'\n",
      "    'Date': 'Wed, 07 Aug 2024 15:31:33 GMT'\n",
      "    'User-Agent': 'azsdk-python-data-tables/12.5.0 Python/3.10.11 (Windows-10-10.0.19045-SP0)'\n",
      "    'Authorization': 'REDACTED'\n",
      "A body is sent with the request\n",
      "2024-08-07 16:31:33,125 - azure.core.pipeline.policies.http_logging_policy - INFO - Response status: 409\n",
      "Response headers:\n",
      "    'Cache-Control': 'no-cache'\n",
      "    'Transfer-Encoding': 'chunked'\n",
      "    'Content-Type': 'application/json;odata=minimalmetadata;streaming=true;charset=utf-8'\n",
      "    'Server': 'Windows-Azure-Table/1.0 Microsoft-HTTPAPI/2.0'\n",
      "    'x-ms-request-id': '05f479f6-8002-0092-0cde-e86a12000000'\n",
      "    'x-ms-client-request-id': '20271fdc-54d2-11ef-9c85-70cf495728c0'\n",
      "    'x-ms-version': 'REDACTED'\n",
      "    'X-Content-Type-Options': 'REDACTED'\n",
      "    'Date': 'Wed, 07 Aug 2024 15:31:33 GMT'\n",
      "2024-08-07 16:31:33,126 - azure - ERROR - Error creating entity in table Boostvaltest001: Operation returned an invalid status 'Conflict'\n",
      "Content: {\"odata.error\":{\"code\":\"EntityAlreadyExists\",\"message\":{\"lang\":\"en-US\",\"value\":\"The specified entity already exists.\\nRequestId:05f479f6-8002-0092-0cde-e86a12000000\\nTime:2024-08-07T15:31:33.7144125Z\"}}}\n"
     ]
    }
   ],
   "source": [
    "flag = False\n",
    "partition = 'Panu'\n",
    "\n",
    "if flag:\n",
    "    for key in range(1,6):\n",
    "        table.create_entity(TableEntry(partition_key=partition, row_key=str(key)))"
   ]
  },
  {
   "cell_type": "code",
   "execution_count": 7,
   "metadata": {},
   "outputs": [
    {
     "name": "stdout",
     "output_type": "stream",
     "text": [
      "2024-08-07 16:31:18,118 - azure - ERROR - Error: CSV headers do not match.\n",
      "2024-08-07 16:31:18,119 - azure - ERROR - Error importing from CSV: Please provide an appropriately formatted CSV file.\n"
     ]
    },
    {
     "ename": "Exception",
     "evalue": "Please provide an appropriately formatted CSV file.",
     "output_type": "error",
     "traceback": [
      "\u001b[1;31m---------------------------------------------------------------------------\u001b[0m",
      "\u001b[1;31mException\u001b[0m                                 Traceback (most recent call last)",
      "Cell \u001b[1;32mIn[7], line 1\u001b[0m\n\u001b[1;32m----> 1\u001b[0m \u001b[43mtable\u001b[49m\u001b[38;5;241;43m.\u001b[39;49m\u001b[43mimport_csv\u001b[49m\u001b[43m(\u001b[49m\u001b[38;5;124;43m'\u001b[39;49m\u001b[38;5;124;43mOutputs/test001.csv\u001b[39;49m\u001b[38;5;124;43m'\u001b[39;49m\u001b[43m)\u001b[49m\n",
      "File \u001b[1;32mc:\\Users\\panuh\\OneDrive - empirisys.io\\Empirisys\\utils\\table.py:247\u001b[0m, in \u001b[0;36mTable.import_csv\u001b[1;34m(self, path)\u001b[0m\n\u001b[0;32m    245\u001b[0m \u001b[38;5;28;01mif\u001b[39;00m reader\u001b[38;5;241m.\u001b[39mfieldnames \u001b[38;5;241m!=\u001b[39m headers:\n\u001b[0;32m    246\u001b[0m     \u001b[38;5;28mself\u001b[39m\u001b[38;5;241m.\u001b[39mlogger\u001b[38;5;241m.\u001b[39merror(\u001b[38;5;124m'\u001b[39m\u001b[38;5;124mError: CSV headers do not match.\u001b[39m\u001b[38;5;124m'\u001b[39m)\n\u001b[1;32m--> 247\u001b[0m     \u001b[38;5;28;01mraise\u001b[39;00m \u001b[38;5;167;01mException\u001b[39;00m(\u001b[38;5;124m'\u001b[39m\u001b[38;5;124mPlease provide an appropriately formatted CSV file.\u001b[39m\u001b[38;5;124m'\u001b[39m)\n\u001b[0;32m    248\u001b[0m \u001b[38;5;28;01mfor\u001b[39;00m row \u001b[38;5;129;01min\u001b[39;00m reader:\n\u001b[0;32m    249\u001b[0m     entry \u001b[38;5;241m=\u001b[39m TableEntry(entry\u001b[38;5;241m=\u001b[39mrow)\n",
      "\u001b[1;31mException\u001b[0m: Please provide an appropriately formatted CSV file."
     ]
    }
   ],
   "source": [
    "table.import_csv('Outputs/test001.csv')"
   ]
  }
 ],
 "metadata": {
  "kernelspec": {
   "display_name": ".venv",
   "language": "python",
   "name": "python3"
  },
  "language_info": {
   "codemirror_mode": {
    "name": "ipython",
    "version": 3
   },
   "file_extension": ".py",
   "mimetype": "text/x-python",
   "name": "python",
   "nbconvert_exporter": "python",
   "pygments_lexer": "ipython3",
   "version": "3.10.11"
  }
 },
 "nbformat": 4,
 "nbformat_minor": 2
}
