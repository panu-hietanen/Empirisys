{
 "cells": [
  {
   "cell_type": "code",
   "execution_count": 1,
   "metadata": {},
   "outputs": [],
   "source": [
    "from dotenv import load_dotenv\n",
    "load_dotenv()\n",
    "from utils.table import Table\n",
    "import json\n",
    "import os\n",
    "import ast"
   ]
  },
  {
   "cell_type": "code",
   "execution_count": 2,
   "metadata": {},
   "outputs": [
    {
     "name": "stdout",
     "output_type": "stream",
     "text": [
      "2024-08-07 14:38:46,095 - azure.core.pipeline.policies.http_logging_policy - INFO - Request URL: 'https://stboostfnappdevuks001.table.core.windows.net/?restype=REDACTED&comp=REDACTED'\n",
      "Request method: 'GET'\n",
      "Request headers:\n",
      "    'x-ms-version': 'REDACTED'\n",
      "    'Accept': 'application/xml'\n",
      "    'x-ms-client-request-id': '5eb2e11b-54c2-11ef-8ed8-70cf495728c0'\n",
      "    'x-ms-date': 'REDACTED'\n",
      "    'Date': 'Wed, 07 Aug 2024 13:38:46 GMT'\n",
      "    'User-Agent': 'azsdk-python-data-tables/12.5.0 Python/3.10.11 (Windows-10-10.0.19045-SP0)'\n",
      "    'Authorization': 'REDACTED'\n",
      "No body was attached to the request\n",
      "2024-08-07 14:38:46,188 - azure.core.pipeline.policies.http_logging_policy - INFO - Response status: 200\n",
      "Response headers:\n",
      "    'Transfer-Encoding': 'chunked'\n",
      "    'Content-Type': 'application/xml'\n",
      "    'Server': 'Windows-Azure-Table/1.0 Microsoft-HTTPAPI/2.0'\n",
      "    'x-ms-request-id': '6555b76b-2002-001d-66cf-e8e378000000'\n",
      "    'x-ms-client-request-id': '5eb2e11b-54c2-11ef-8ed8-70cf495728c0'\n",
      "    'x-ms-version': 'REDACTED'\n",
      "    'Date': 'Wed, 07 Aug 2024 13:38:46 GMT'\n",
      "2024-08-07 14:38:46,191 - azure - INFO - TableServiceClient initialized successfully.\n",
      "2024-08-07 14:38:46,191 - azure - INFO - Table properties: {'analytics_logging': , 'hour_metrics': , 'minute_metrics': , 'cors': []}\n",
      "2024-08-07 14:38:46,192 - azure - INFO - Table client for 'Boostvaltest001' retrieved successfully.\n"
     ]
    }
   ],
   "source": [
    "table = Table(os.getenv('TABLE_NAME'))"
   ]
  }
 ],
 "metadata": {
  "kernelspec": {
   "display_name": ".venv",
   "language": "python",
   "name": "python3"
  },
  "language_info": {
   "codemirror_mode": {
    "name": "ipython",
    "version": 3
   },
   "file_extension": ".py",
   "mimetype": "text/x-python",
   "name": "python",
   "nbconvert_exporter": "python",
   "pygments_lexer": "ipython3",
   "version": "3.10.11"
  }
 },
 "nbformat": 4,
 "nbformat_minor": 2
}
