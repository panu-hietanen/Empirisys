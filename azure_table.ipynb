{
 "cells": [
  {
   "cell_type": "code",
   "execution_count": 1,
   "metadata": {},
   "outputs": [],
   "source": [
    "from dotenv import load_dotenv\n",
    "load_dotenv()\n",
    "from utils.table import Table, TableEntry\n",
    "import json\n",
    "import os\n",
    "from ast import literal_eval\n",
    "from pprint import pp"
   ]
  },
  {
   "cell_type": "code",
   "execution_count": 2,
   "metadata": {},
   "outputs": [
    {
     "name": "stdout",
     "output_type": "stream",
     "text": [
      "2024-08-07 16:49:29,770 - azure.core.pipeline.policies.http_logging_policy - INFO - Request URL: 'https://stboostfnappdevuks001.table.core.windows.net/?restype=REDACTED&comp=REDACTED'\n",
      "Request method: 'GET'\n",
      "Request headers:\n",
      "    'x-ms-version': 'REDACTED'\n",
      "    'Accept': 'application/xml'\n",
      "    'x-ms-client-request-id': 'a1e4d85d-54d4-11ef-a1e4-70cf495728c0'\n",
      "    'x-ms-date': 'REDACTED'\n",
      "    'Date': 'Wed, 07 Aug 2024 15:49:29 GMT'\n",
      "    'User-Agent': 'azsdk-python-data-tables/12.5.0 Python/3.10.11 (Windows-10-10.0.19045-SP0)'\n",
      "    'Authorization': 'REDACTED'\n",
      "No body was attached to the request\n",
      "2024-08-07 16:49:29,878 - azure.core.pipeline.policies.http_logging_policy - INFO - Response status: 200\n",
      "Response headers:\n",
      "    'Transfer-Encoding': 'chunked'\n",
      "    'Content-Type': 'application/xml'\n",
      "    'Server': 'Windows-Azure-Table/1.0 Microsoft-HTTPAPI/2.0'\n",
      "    'x-ms-request-id': '37f7652a-e002-0002-1fe1-e8507c000000'\n",
      "    'x-ms-client-request-id': 'a1e4d85d-54d4-11ef-a1e4-70cf495728c0'\n",
      "    'x-ms-version': 'REDACTED'\n",
      "    'Date': 'Wed, 07 Aug 2024 15:49:29 GMT'\n",
      "2024-08-07 16:49:29,879 - azure - INFO - TableServiceClient initialized successfully.\n",
      "2024-08-07 16:49:29,880 - azure - INFO - Table properties: {'analytics_logging': , 'hour_metrics': , 'minute_metrics': , 'cors': []}\n",
      "2024-08-07 16:49:29,880 - azure - INFO - Table client for 'Boostvaltest001' retrieved successfully.\n"
     ]
    }
   ],
   "source": [
    "table = Table(os.getenv('TABLE_NAME'))"
   ]
  },
  {
   "cell_type": "code",
   "execution_count": 3,
   "metadata": {},
   "outputs": [
    {
     "name": "stdout",
     "output_type": "stream",
     "text": [
      "2024-08-07 16:49:29,891 - azure - INFO - Entities retrieved successfully from table Boostvaltest001.\n",
      "2024-08-07 16:49:29,892 - azure.core.pipeline.policies.http_logging_policy - INFO - Request URL: 'https://stboostfnappdevuks001.table.core.windows.net/Boostvaltest001()'\n",
      "Request method: 'GET'\n",
      "Request headers:\n",
      "    'x-ms-version': 'REDACTED'\n",
      "    'DataServiceVersion': 'REDACTED'\n",
      "    'Accept': 'application/json;odata=minimalmetadata'\n",
      "    'x-ms-client-request-id': 'a1f779f4-54d4-11ef-a415-70cf495728c0'\n",
      "    'x-ms-date': 'REDACTED'\n",
      "    'Date': 'Wed, 07 Aug 2024 15:49:29 GMT'\n",
      "    'User-Agent': 'azsdk-python-data-tables/12.5.0 Python/3.10.11 (Windows-10-10.0.19045-SP0)'\n",
      "    'Authorization': 'REDACTED'\n",
      "No body was attached to the request\n",
      "2024-08-07 16:49:29,911 - azure.core.pipeline.policies.http_logging_policy - INFO - Response status: 200\n",
      "Response headers:\n",
      "    'Cache-Control': 'no-cache'\n",
      "    'Transfer-Encoding': 'chunked'\n",
      "    'Content-Type': 'application/json;odata=minimalmetadata;streaming=true;charset=utf-8'\n",
      "    'Server': 'Windows-Azure-Table/1.0 Microsoft-HTTPAPI/2.0'\n",
      "    'x-ms-request-id': '37f76532-e002-0002-26e1-e8507c000000'\n",
      "    'x-ms-client-request-id': 'a1f779f4-54d4-11ef-a415-70cf495728c0'\n",
      "    'x-ms-version': 'REDACTED'\n",
      "    'X-Content-Type-Options': 'REDACTED'\n",
      "    'Date': 'Wed, 07 Aug 2024 15:49:29 GMT'\n"
     ]
    }
   ],
   "source": [
    "test = table.get_data()"
   ]
  },
  {
   "cell_type": "code",
   "execution_count": 10,
   "metadata": {},
   "outputs": [],
   "source": [
    "test_entry = {'PartitionKey': 'TestPartition', 'RowKey': '1', 'BoostLabels': \"['Label1', 'Label3', 'Label4']\", 'Description': 'Test Observation 16:27', 'ManualLabels': \"['Label1', 'Label2']\", 'Ratings': '{\"Label3\": \"plausible\", \"Label4\": \"incorrect\"}', 'reviewed': 'True'}"
   ]
  },
  {
   "cell_type": "code",
   "execution_count": 11,
   "metadata": {},
   "outputs": [
    {
     "name": "stdout",
     "output_type": "stream",
     "text": [
      "2024-08-07 16:50:05,462 - azure.core.pipeline.policies.http_logging_policy - INFO - Request URL: 'https://stboostfnappdevuks001.table.core.windows.net/Boostvaltest001'\n",
      "Request method: 'POST'\n",
      "Request headers:\n",
      "    'Content-Type': 'application/json;odata=nometadata'\n",
      "    'Content-Length': '537'\n",
      "    'x-ms-version': 'REDACTED'\n",
      "    'DataServiceVersion': 'REDACTED'\n",
      "    'Accept': 'application/json;odata=minimalmetadata'\n",
      "    'x-ms-client-request-id': 'b72af529-54d4-11ef-817d-70cf495728c0'\n",
      "    'x-ms-date': 'REDACTED'\n",
      "    'Date': 'Wed, 07 Aug 2024 15:50:05 GMT'\n",
      "    'User-Agent': 'azsdk-python-data-tables/12.5.0 Python/3.10.11 (Windows-10-10.0.19045-SP0)'\n",
      "    'Authorization': 'REDACTED'\n",
      "A body is sent with the request\n",
      "2024-08-07 16:50:05,500 - azure.core.pipeline.policies.http_logging_policy - INFO - Response status: 201\n",
      "Response headers:\n",
      "    'Cache-Control': 'no-cache'\n",
      "    'Transfer-Encoding': 'chunked'\n",
      "    'Content-Type': 'application/json;odata=minimalmetadata;streaming=true;charset=utf-8'\n",
      "    'ETag': 'W/\"datetime'2024-08-07T15%3A50%3A06.0924437Z'\"'\n",
      "    'Location': 'REDACTED'\n",
      "    'Server': 'Windows-Azure-Table/1.0 Microsoft-HTTPAPI/2.0'\n",
      "    'x-ms-request-id': '37f77f89-e002-0002-44e1-e8507c000000'\n",
      "    'x-ms-client-request-id': 'b72af529-54d4-11ef-817d-70cf495728c0'\n",
      "    'x-ms-version': 'REDACTED'\n",
      "    'X-Content-Type-Options': 'REDACTED'\n",
      "    'Date': 'Wed, 07 Aug 2024 15:50:05 GMT'\n",
      "2024-08-07 16:50:05,501 - azure - INFO - Entity created in table Boostvaltest001.\n"
     ]
    }
   ],
   "source": [
    "table.create_entity(TableEntry(entry=test_entry))"
   ]
  },
  {
   "cell_type": "code",
   "execution_count": 6,
   "metadata": {},
   "outputs": [],
   "source": [
    "flag = False\n",
    "partition = 'Panu'\n",
    "\n",
    "if flag:\n",
    "    for key in range(1,6):\n",
    "        table.create_entity(TableEntry(partition_key=partition, row_key=str(key)))"
   ]
  },
  {
   "cell_type": "code",
   "execution_count": 7,
   "metadata": {},
   "outputs": [
    {
     "name": "stdout",
     "output_type": "stream",
     "text": [
      "2024-08-07 16:49:29,986 - azure - ERROR - Error: CSV headers do not match.\n",
      "2024-08-07 16:49:29,999 - azure - ERROR - Error importing from CSV: Please provide an appropriately formatted CSV file.\n"
     ]
    },
    {
     "ename": "Exception",
     "evalue": "Please provide an appropriately formatted CSV file.",
     "output_type": "error",
     "traceback": [
      "\u001b[1;31m---------------------------------------------------------------------------\u001b[0m",
      "\u001b[1;31mException\u001b[0m                                 Traceback (most recent call last)",
      "Cell \u001b[1;32mIn[7], line 1\u001b[0m\n\u001b[1;32m----> 1\u001b[0m \u001b[43mtable\u001b[49m\u001b[38;5;241;43m.\u001b[39;49m\u001b[43mimport_csv\u001b[49m\u001b[43m(\u001b[49m\u001b[38;5;124;43m'\u001b[39;49m\u001b[38;5;124;43mOutputs/test001.csv\u001b[39;49m\u001b[38;5;124;43m'\u001b[39;49m\u001b[43m)\u001b[49m\n",
      "File \u001b[1;32mc:\\Users\\panuh\\OneDrive - empirisys.io\\Empirisys\\utils\\table.py:247\u001b[0m, in \u001b[0;36mTable.import_csv\u001b[1;34m(self, path)\u001b[0m\n\u001b[0;32m    245\u001b[0m \u001b[38;5;28;01mif\u001b[39;00m reader\u001b[38;5;241m.\u001b[39mfieldnames \u001b[38;5;241m!=\u001b[39m headers:\n\u001b[0;32m    246\u001b[0m     \u001b[38;5;28mself\u001b[39m\u001b[38;5;241m.\u001b[39mlogger\u001b[38;5;241m.\u001b[39merror(\u001b[38;5;124m'\u001b[39m\u001b[38;5;124mError: CSV headers do not match.\u001b[39m\u001b[38;5;124m'\u001b[39m)\n\u001b[1;32m--> 247\u001b[0m     \u001b[38;5;28;01mraise\u001b[39;00m \u001b[38;5;167;01mException\u001b[39;00m(\u001b[38;5;124m'\u001b[39m\u001b[38;5;124mPlease provide an appropriately formatted CSV file.\u001b[39m\u001b[38;5;124m'\u001b[39m)\n\u001b[0;32m    248\u001b[0m \u001b[38;5;28;01mfor\u001b[39;00m row \u001b[38;5;129;01min\u001b[39;00m reader:\n\u001b[0;32m    249\u001b[0m     entry \u001b[38;5;241m=\u001b[39m TableEntry(entry\u001b[38;5;241m=\u001b[39mrow)\n",
      "\u001b[1;31mException\u001b[0m: Please provide an appropriately formatted CSV file."
     ]
    }
   ],
   "source": [
    "table.import_csv('Outputs/test001.csv')"
   ]
  }
 ],
 "metadata": {
  "kernelspec": {
   "display_name": ".venv",
   "language": "python",
   "name": "python3"
  },
  "language_info": {
   "codemirror_mode": {
    "name": "ipython",
    "version": 3
   },
   "file_extension": ".py",
   "mimetype": "text/x-python",
   "name": "python",
   "nbconvert_exporter": "python",
   "pygments_lexer": "ipython3",
   "version": "3.10.11"
  }
 },
 "nbformat": 4,
 "nbformat_minor": 2
}
